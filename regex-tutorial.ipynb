{
 "cells": [
  {
   "cell_type": "code",
   "execution_count": 13,
   "metadata": {},
   "outputs": [
    {
     "name": "stdout",
     "output_type": "stream",
     "text": [
      "hello -world\n"
     ]
    }
   ],
   "source": [
    "print(\"hello -world\")"
   ]
  },
  {
   "cell_type": "code",
   "execution_count": 14,
   "metadata": {},
   "outputs": [],
   "source": [
    "from aalpy.SULs import RegexSUL\n",
    "from aalpy.oracles import StatePrefixEqOracle\n",
    "from aalpy.learning_algs import run_Lstar\n",
    "from aalpy.utils import visualize_automaton\n"
   ]
  },
  {
   "cell_type": "code",
   "execution_count": 15,
   "metadata": {},
   "outputs": [],
   "source": [
    "def regex_example(regex, alphabet):\n",
    "    \"\"\"\n",
    "    Learn a regular expression.\n",
    "    :param regex: regex to learn\n",
    "    :param alphabet: alphabet of the regex\n",
    "    :return: DFA representing the regex\n",
    "    \"\"\"\n",
    "    regex_sul = RegexSUL(regex)\n",
    "\n",
    "    eq_oracle = StatePrefixEqOracle(alphabet, regex_sul, walks_per_state=2000,\n",
    "                                    walk_len=15)\n",
    "\n",
    "    # or replace run_Lstar with run_KV\n",
    "    learned_regex = run_Lstar(alphabet, regex_sul, eq_oracle, automaton_type='dfa')\n",
    "\n",
    "    return learned_regex"
   ]
  },
  {
   "cell_type": "code",
   "execution_count": 16,
   "metadata": {},
   "outputs": [
    {
     "name": "stdout",
     "output_type": "stream",
     "text": [
      "Hypothesis 1: 2 states.\n",
      "Hypothesis 2: 3 states.\n",
      "-----------------------------------\n",
      "Learning Finished.\n",
      "Learning Rounds:  2\n",
      "Number of states: 3\n",
      "Time (in seconds)\n",
      "  Total                : 0.39\n",
      "  Learning algorithm   : 0.0\n",
      "  Conformance checking : 0.39\n",
      "Learning Algorithm\n",
      " # Membership Queries  : 13\n",
      " # MQ Saved by Caching : 6\n",
      " # Steps               : 49\n",
      "Equivalence Query\n",
      " # Membership Queries  : 6000\n",
      " # Steps               : 95992\n",
      "-----------------------------------\n",
      "Learned regex: digraph learnedModel {\n",
      "s0 [label=\"s0\"];\n",
      "s1 [label=\"s1\", shape=doublecircle];\n",
      "s2 [label=\"s2\"];\n",
      "s0 -> s0  [label=\"a\"];\n",
      "s0 -> s1  [label=\"b\"];\n",
      "s1 -> s2  [label=\"a\"];\n",
      "s1 -> s2  [label=\"b\"];\n",
      "s2 -> s2  [label=\"a\"];\n",
      "s2 -> s2  [label=\"b\"];\n",
      "__start0 [label=\"\", shape=none];\n",
      "__start0 -> s0  [label=\"\"];\n",
      "}\n",
      "\n"
     ]
    }
   ],
   "source": [
    "regex = 'a*b'\n",
    "alphabet = ['a', 'b']\n",
    "\n",
    "learned_regex = regex_example(regex, alphabet)\n",
    "\n",
    "print(f\"Learned regex: {learned_regex}\")\n",
    "#learned_regex.visualize(file_path='learned_regex')\n",
    "#visualize_automaton(learned_regex)\n",
    "#assert learned_regex == \"a*b$\""
   ]
  },
  {
   "cell_type": "code",
   "execution_count": 17,
   "metadata": {},
   "outputs": [
    {
     "name": "stdout",
     "output_type": "stream",
     "text": [
      "\u001b[33mWARNING: The directory '/home/jovyan/.cache/pip' or its parent directory is not owned or is not writable by the current user. The cache has been disabled. Check the permissions and owner of that directory. If executing pip with sudo, you should use sudo's -H flag.\u001b[0m\u001b[33m\n",
      "\u001b[0mRequirement already satisfied: graphviz in /opt/conda/lib/python3.11/site-packages (0.20.3)\n",
      "\u001b[33mWARNING: Running pip as the 'root' user can result in broken permissions and conflicting behaviour with the system package manager. It is recommended to use a virtual environment instead: https://pip.pypa.io/warnings/venv\u001b[0m\u001b[33m\n",
      "\u001b[0m"
     ]
    }
   ],
   "source": [
    "!pip install graphviz"
   ]
  },
  {
   "cell_type": "code",
   "execution_count": null,
   "metadata": {},
   "outputs": [],
   "source": []
  },
  {
   "cell_type": "code",
   "execution_count": 22,
   "metadata": {},
   "outputs": [
    {
     "name": "stdout",
     "output_type": "stream",
     "text": [
      "digraph learnedModel {\n",
      "s0 [label=\"s0\"];\n",
      "s1 [label=\"s1\", shape=doublecircle];\n",
      "s2 [label=\"s2\"];\n",
      "s0 -> s0  [label=\"a\"];\n",
      "s0 -> s1  [label=\"b\"];\n",
      "s1 -> s2  [label=\"a\"];\n",
      "s1 -> s2  [label=\"b\"];\n",
      "s2 -> s2  [label=\"a\"];\n",
      "s2 -> s2  [label=\"b\"];\n",
      "__start0 [label=\"\", shape=none];\n",
      "__start0 -> s0  [label=\"\"];\n",
      "}\n",
      "\n",
      "{learned_regex}\n",
      "\n"
     ]
    }
   ],
   "source": [
    "from graphviz import Source\n",
    "print(learned_regex.__str__())\n",
    "dot = Source(learned_regex.__str__())\n",
    "print(dot.source)\n"
   ]
  },
  {
   "cell_type": "code",
   "execution_count": null,
   "metadata": {},
   "outputs": [],
   "source": []
  },
  {
   "cell_type": "code",
   "execution_count": null,
   "metadata": {},
   "outputs": [],
   "source": []
  },
  {
   "cell_type": "code",
   "execution_count": null,
   "metadata": {},
   "outputs": [],
   "source": []
  },
  {
   "cell_type": "code",
   "execution_count": null,
   "metadata": {},
   "outputs": [],
   "source": []
  },
  {
   "cell_type": "code",
   "execution_count": null,
   "metadata": {},
   "outputs": [],
   "source": []
  },
  {
   "cell_type": "code",
   "execution_count": null,
   "metadata": {},
   "outputs": [],
   "source": []
  },
  {
   "cell_type": "code",
   "execution_count": null,
   "metadata": {},
   "outputs": [],
   "source": []
  },
  {
   "cell_type": "code",
   "execution_count": null,
   "metadata": {},
   "outputs": [],
   "source": []
  },
  {
   "cell_type": "code",
   "execution_count": null,
   "metadata": {},
   "outputs": [],
   "source": []
  },
  {
   "cell_type": "code",
   "execution_count": null,
   "metadata": {},
   "outputs": [],
   "source": []
  },
  {
   "cell_type": "code",
   "execution_count": null,
   "metadata": {},
   "outputs": [],
   "source": []
  },
  {
   "cell_type": "code",
   "execution_count": null,
   "metadata": {},
   "outputs": [],
   "source": []
  },
  {
   "cell_type": "code",
   "execution_count": null,
   "metadata": {},
   "outputs": [],
   "source": []
  }
 ],
 "metadata": {
  "kernelspec": {
   "display_name": "Python 3 (ipykernel)",
   "language": "python",
   "name": "python3"
  },
  "language_info": {
   "codemirror_mode": {
    "name": "ipython",
    "version": 3
   },
   "file_extension": ".py",
   "mimetype": "text/x-python",
   "name": "python",
   "nbconvert_exporter": "python",
   "pygments_lexer": "ipython3",
   "version": "3.11.9"
  }
 },
 "nbformat": 4,
 "nbformat_minor": 2
}
